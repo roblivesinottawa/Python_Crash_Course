{
 "cells": [
  {
   "cell_type": "code",
   "execution_count": 1,
   "source": [
    "message = \"Hello Python World!\"\n",
    "print(message)"
   ],
   "outputs": [
    {
     "output_type": "stream",
     "name": "stdout",
     "text": [
      "Hello Python World!\n"
     ]
    }
   ],
   "metadata": {}
  },
  {
   "cell_type": "code",
   "execution_count": 2,
   "source": [
    "\"\"\"Every variable is connected to a value, which is the information associated with that value.\"\"\""
   ],
   "outputs": [
    {
     "output_type": "execute_result",
     "data": {
      "text/plain": [
       "'Every variable is connected to a value, which is the information associated with that value.'"
      ]
     },
     "metadata": {},
     "execution_count": 2
    }
   ],
   "metadata": {}
  },
  {
   "cell_type": "code",
   "execution_count": 3,
   "source": [
    "message = \"Hello Python World!\"\n",
    "print(message)\n",
    "\n",
    "message = \"Hello from Python Crash Course!\"\n",
    "print(message)"
   ],
   "outputs": [
    {
     "output_type": "stream",
     "name": "stdout",
     "text": [
      "Hello Python World!\n",
      "Hello from Python Crash Course!\n"
     ]
    }
   ],
   "metadata": {}
  },
  {
   "cell_type": "code",
   "execution_count": 4,
   "source": [
    "\"\"\"Naming and using variables:\n",
    "    they can only contain letters, numbers and underscores. they can't start with a number.\n",
    "    spaces are not allowed in variable names.\n",
    "    avoid using Python keywords.\n",
    "    variable names should be short but descriptive.\n",
    "\n",
    "\"\"\""
   ],
   "outputs": [
    {
     "output_type": "execute_result",
     "data": {
      "text/plain": [
       "\"Naming and using variables:\\n    they can only contain letters, numbers and underscores. they can't start with a number.\\n    spaces are not allowed in variable names.\\n    avoid using Python keywords.\\n    variable names should be short but descriptive.\\n\\n\""
      ]
     },
     "metadata": {},
     "execution_count": 4
    }
   ],
   "metadata": {}
  },
  {
   "cell_type": "code",
   "execution_count": 5,
   "source": [
    "message = \"Python is the best langauage in the world!\"\n",
    "print(message)"
   ],
   "outputs": [
    {
     "output_type": "stream",
     "name": "stdout",
     "text": [
      "Python is the best langauage in the world!\n"
     ]
    }
   ],
   "metadata": {}
  },
  {
   "cell_type": "code",
   "execution_count": null,
   "source": [],
   "outputs": [],
   "metadata": {}
  }
 ],
 "metadata": {
  "orig_nbformat": 4,
  "language_info": {
   "name": "python",
   "version": "3.8.3",
   "mimetype": "text/x-python",
   "codemirror_mode": {
    "name": "ipython",
    "version": 3
   },
   "pygments_lexer": "ipython3",
   "nbconvert_exporter": "python",
   "file_extension": ".py"
  },
  "kernelspec": {
   "name": "python3",
   "display_name": "Python 3.8.3 64-bit ('base': conda)"
  },
  "interpreter": {
   "hash": "dca0ade3e726a953b501b15e8e990130d2b7799f14cfd9f4271676035ebe5511"
  }
 },
 "nbformat": 4,
 "nbformat_minor": 2
}